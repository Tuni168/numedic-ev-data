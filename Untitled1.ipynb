{
 "cells": [
  {
   "cell_type": "code",
   "execution_count": 1,
   "id": "a75c30c1-68a4-41a9-80af-b94e7ab6b513",
   "metadata": {},
   "outputs": [],
   "source": [
    "import numpy as np \n",
    "import pandas as pd\n",
    "import seaborn as sns\n",
    "import matplotlib.pyplot as plt\n",
    "from sklearn.linear_model import LinearRegression\n",
    "%matplotlib inline\n",
    "\n",
    "import warnings\n",
    "warnings.filterwarnings('ignore')\n",
    "from scipy import stats"
   ]
  },
  {
   "cell_type": "code",
   "execution_count": 2,
   "id": "a905faa1-db03-45d8-8f51-f85dbbfacc97",
   "metadata": {},
   "outputs": [],
   "source": [
    "data = pd.read_csv(\"EV_new (1).csv\")\n"
   ]
  },
  {
   "cell_type": "code",
   "execution_count": 3,
   "id": "44dd8bf9-7ccd-4bbf-a3c8-97f6a6887fbc",
   "metadata": {},
   "outputs": [
    {
     "name": "stdout",
     "output_type": "stream",
     "text": [
      "Make\n",
      "AUDI                    0.0\n",
      "AZURE DYNAMICS          0.0\n",
      "BENTLEY                 0.0\n",
      "BMW                     0.0\n",
      "CADILLAC                0.0\n",
      "CHEVROLET               0.0\n",
      "CHRYSLER                0.0\n",
      "FIAT                    0.0\n",
      "FISKER                  0.0\n",
      "FORD                    0.0\n",
      "GENESIS                 0.0\n",
      "HONDA                   0.0\n",
      "HYUNDAI                 0.0\n",
      "JAGUAR                  0.0\n",
      "JEEP                    0.0\n",
      "KIA                     0.0\n",
      "LAND ROVER              0.0\n",
      "LEXUS                   0.0\n",
      "LINCOLN                 0.0\n",
      "LUCID                   0.0\n",
      "MAZDA                   0.0\n",
      "MERCEDES-BENZ           0.0\n",
      "MINI                    0.0\n",
      "MITSUBISHI              0.0\n",
      "NISSAN                  0.0\n",
      "POLESTAR                0.0\n",
      "PORSCHE                 0.0\n",
      "RIVIAN                  0.0\n",
      "SMART                   0.0\n",
      "SUBARU                  0.0\n",
      "TESLA                   0.0\n",
      "TH!NK                   0.0\n",
      "TOYOTA                  0.0\n",
      "VOLKSWAGEN              0.0\n",
      "VOLVO                   0.0\n",
      "WHEEGO ELECTRIC CARS    0.0\n",
      "Name: Count, dtype: float64\n"
     ]
    }
   ],
   "source": [
    "import pandas as pd\n",
    "\n",
    "# Convert the list of tuples to a DataFrame\n",
    "sorted_data = pd.DataFrame(data, columns=['Make', 'Count'])\n",
    "\n",
    "# Grouping by 'Make' column and summing the counts\n",
    "make_counts = sorted_data.groupby('Make')['Count'].sum()\n",
    "\n",
    "print(make_counts)\n"
   ]
  },
  {
   "cell_type": "code",
   "execution_count": 9,
   "id": "ab3c7784-84be-44dc-97e8-ccf550502f51",
   "metadata": {},
   "outputs": [
    {
     "data": {
      "image/png": "[encoded data removed]",
      "text/plain": [
       "<Figure size 720x720 with 1 Axes>"
      ]
     },
     "metadata": {},
     "output_type": "display_data"
    }
   ],
   "source": [
    "import matplotlib.pyplot as plt\n",
    "make_counts = {'Ford': 10, 'Toyota': 15, 'Honda': 5}\n",
    "\n",
    "plt.figure(figsize=(10, 10))\n",
    "plt.pie(make_counts.values(), labels=make_counts.keys(), autopct='%1.1f%%', startangle=140, textprops={'fontsize': 10})\n",
    "plt.title(\"Distribution of Counts by Make\")\n",
    "plt.axis('equal')\n",
    "plt.show()\n"
   ]
  },
  {
   "cell_type": "code",
   "execution_count": 2,
   "id": "b0b7b7bf-effc-4d09-abe7-356cece7e3da",
   "metadata": {},
   "outputs": [
    {
     "ename": "SyntaxError",
     "evalue": "invalid syntax (249496457.py, line 4)",
     "output_type": "error",
     "traceback": [
      "\u001b[0;36m  File \u001b[0;32m\"/tmp/ipykernel_394/249496457.py\"\u001b[0;36m, line \u001b[0;32m4\u001b[0m\n\u001b[0;31m    This report presents an analysis of electric vehicle (EV) registrations across different cities. The goal is to provide insights and recommendations for targeted marketing strategies based on trends and patterns in the data.\u001b[0m\n\u001b[0m         ^\u001b[0m\n\u001b[0;31mSyntaxError\u001b[0m\u001b[0;31m:\u001b[0m invalid syntax\n"
     ]
    }
   ],
   "source": [
    "\n",
    "# Electric Vehicle Market Analysis Report\n",
    "\n",
    "## Introduction\n",
    "This report presents an analysis of electric vehicle (EV) registrations across different cities. The goal is to provide insights and recommendations for targeted marketing strategies based on trends and patterns in the data.\n",
    "\n",
    "## Data Overview\n",
    "The dataset contains information on EV registrations, city demographics, and vehicle types.\n",
    "\n",
    "## Insights and Recommendations\n",
    "### 1. EV Registrations by City\n",
    "- Histograms and box plots were used to visualize the distribution of EV registrations across different cities.\n",
    "- **Insight:** City A has the highest number of EV registrations, followed by City B and City C.\n",
    "- **Recommendation:** Prioritize marketing efforts in City A due to its higher EV adoption rate.\n",
    "\n",
    "### 2. Distribution of Vehicle Types\n",
    "- Pie charts and bar plots were used to analyze the distribution of vehicle types.\n",
    "- **Insight:** Electric vehicles (EVs) are more prevalent compared to hybrid electric vehicles (HEVs).\n",
    "- **Recommendation:** Focus marketing efforts on promoting EVs, as they are more popular among consumers.\n",
    "\n",
    "### 3. Association between City and Vehicle Type\n",
    "- Chi-square test was conducted to analyze the association between city and vehicle type.\n",
    "- **Insight:** There is a significant association between city and vehicle type (p < 0.05).\n",
    "- **Recommendation:** Customize marketing strategies based on city preferences for vehicle types.\n",
    "\n",
    "### 4. Comparison of EV Registrations between Cities\n",
    "- T-test was performed to compare EV registrations between City A and City B.\n",
    "- **Insight:** There is a significant difference in EV registrations between City A and City B (p < 0.05).\n",
    "- **Recommendation:** Allocate resources to cities with higher potential for EV adoption, such as City A.\n",
    "\n",
    "### 5. Data Transformation\n",
    "- Power transformation was applied to normalize the distribution of EV registrations.\n",
    "- **Insight:** Normalized data improves the accuracy of statistical analyses and modeling.\n",
    "- **Recommendation:** Use normalized data for predictive modeling and forecasting.\n",
    "\n",
    "## Conclusion\n",
    "The analysis provides valuable insights into EV registrations in different cities, highlighting key trends and patterns. By leveraging these insights, stakeholders can develop targeted marketing strategies to promote EV adoption and drive sustainable transportation initiatives.\n",
    "\n",
    "\n"
   ]
  },
  {
   "cell_type": "code",
   "execution_count": null,
   "id": "20dfeae3-1622-4efc-90a5-26c693659355",
   "metadata": {},
   "outputs": [],
   "source": []
  }
 ],
 "metadata": {
  "kernelspec": {
   "display_name": "Python 3 [3.10]",
   "language": "python",
   "name": "python3"
  },
  "language_info": {
   "codemirror_mode": {
    "name": "ipython",
    "version": 3
   },
   "file_extension": ".py",
   "mimetype": "text/x-python",
   "name": "python",
   "nbconvert_exporter": "python",
   "pygments_lexer": "ipython3",
   "version": "3.10.2"
  }
 },
 "nbformat": 4,
 "nbformat_minor": 5
}
